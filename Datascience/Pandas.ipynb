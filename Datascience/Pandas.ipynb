{
 "cells": [
  {
   "cell_type": "markdown",
   "id": "82be7483",
   "metadata": {},
   "source": [
    "# Loading data into Pandas"
   ]
  },
  {
   "cell_type": "code",
   "execution_count": null,
   "id": "45969056",
   "metadata": {},
   "outputs": [],
   "source": [
    "import pandas as pd\n",
    "df= pd.read_csv('pokemon_data.csv')\n",
    "# head() fxn gives the head of the df, argument can specify the number of rows we want to see from the top of the df.\n",
    "df.head()\n",
    "print(df.head())\n",
    "# tail() fxn gives the tail of the df, argument can specify the number of rows we want to see from the bottom of the df.\n",
    "print(df.tail())\n",
    "print(df.columns)\n",
    "# shape gives the count of rows and columns, if the index of the array is 0: Rows; if 1: Columns\n",
    "df.shape[0]\n",
    "# I can also use length function for the index of the data frame.\n",
    "len(df.index)\n",
    "df[['Name']]"
   ]
  },
  {
   "cell_type": "code",
   "execution_count": null,
   "id": "cbd03589",
   "metadata": {},
   "outputs": [],
   "source": [
    "df2 = pd.read_csv('User list.csv')\n",
    "print(df2.columns)\n",
    "# df2[[\"FULL_NAME\", \"EMAIL1\", \"POSITION_ID\"]]\n",
    "# Assign works as Aliasing in SQL; Refer pandas documentation\n",
    "df2.assign(division = 45467/df2[\"POSITION_ID\"])\n",
    "df2.head()\n",
    "print(df2['FULL_NAME'] == 'Jim Broker')\n",
    "df2.loc[df2['FULL_NAME'] == 'Jim Broker'] # Read specific cells\n",
    "df2[(df2['FULL_NAME'] == 'Jim Broker') | (df2['FULL_NAME'] == 'Manoj Shah')] # Read specific cells on multiple OR conditions"
   ]
  },
  {
   "cell_type": "markdown",
   "id": "ca425a77",
   "metadata": {},
   "source": [
    "# Reading Data in Pandas"
   ]
  },
  {
   "cell_type": "code",
   "execution_count": null,
   "id": "7056f087",
   "metadata": {},
   "outputs": [],
   "source": [
    "df[['Name', 'HP']][0:3] #Use double brackets to enclose column names and then enter row sequence you want to see"
   ]
  },
  {
   "cell_type": "code",
   "execution_count": null,
   "id": "dfa58bec",
   "metadata": {},
   "outputs": [],
   "source": [
    "print(df.iloc[2,4]) ##Check exact cell by mentioning the co-ordinates"
   ]
  },
  {
   "cell_type": "code",
   "execution_count": null,
   "id": "eb414a67",
   "metadata": {},
   "outputs": [],
   "source": [
    "print(df.iloc[2]) ##Check called row\n",
    "x=1\n",
    "df2 = df.iloc[0]\n",
    "while x<100:\n",
    "    df1 = df.iloc[x]\n",
    "    df2 = pd.concat([df2, df1], axis=0)\n",
    "    df2.dropna()\n",
    "    x+=1\n",
    "df2.to_excel('modifiednew2.xlsx', index = False)"
   ]
  },
  {
   "cell_type": "code",
   "execution_count": null,
   "id": "e37ba6b3",
   "metadata": {},
   "outputs": [],
   "source": [
    "for index, row in df.iterrows():\n",
    "    print(row) # This for loop helped iterate iloc[i] multiple times i.e. shows every row one by one. The logic I wrote in the above while loop became simple with this:\n",
    "for index, row in df.iterrows():\n",
    "    print(row) \n",
    "df2.to_excel('modifiednew2.xlsx', index = False)"
   ]
  },
  {
   "cell_type": "code",
   "execution_count": null,
   "id": "d334ca2d",
   "metadata": {},
   "outputs": [],
   "source": [
    "df.loc[df['Legendary'] == True] #Used to find all rows with specific search key from the mentioned column"
   ]
  },
  {
   "cell_type": "code",
   "execution_count": null,
   "id": "da408708",
   "metadata": {},
   "outputs": [],
   "source": [
    "df.loc[(df['Legendary'] == False) & (df['Type 2'] == 'Fairy')]  #Used to find all rows with specific search key from the mentioned column"
   ]
  },
  {
   "cell_type": "code",
   "execution_count": null,
   "id": "65a4dfb5",
   "metadata": {},
   "outputs": [],
   "source": [
    "print(df.iloc[3,2])"
   ]
  },
  {
   "cell_type": "code",
   "execution_count": null,
   "id": "cc87df58",
   "metadata": {},
   "outputs": [],
   "source": [
    "df['Name']"
   ]
  },
  {
   "cell_type": "markdown",
   "id": "c86c4691",
   "metadata": {},
   "source": [
    "# Use of describe to get Count, Mean, Std. Dev etc on all numeric Columns"
   ]
  },
  {
   "cell_type": "code",
   "execution_count": null,
   "id": "1b208957",
   "metadata": {
    "scrolled": true
   },
   "outputs": [],
   "source": [
    " df.describe()"
   ]
  },
  {
   "cell_type": "markdown",
   "id": "4d26c221",
   "metadata": {},
   "source": [
    "# Sort Data in Columns"
   ]
  },
  {
   "cell_type": "code",
   "execution_count": null,
   "id": "3fc5faec",
   "metadata": {},
   "outputs": [],
   "source": [
    "df2.sort_values(['FULL_NAME'])\n",
    "df2.sort_values(['FULL_NAME', 'POSITION_ID'], ascending = [1,0])\n"
   ]
  },
  {
   "cell_type": "code",
   "execution_count": 164,
   "id": "690f568d",
   "metadata": {},
   "outputs": [
    {
     "data": {
      "text/html": [
       "<div>\n",
       "<style scoped>\n",
       "    .dataframe tbody tr th:only-of-type {\n",
       "        vertical-align: middle;\n",
       "    }\n",
       "\n",
       "    .dataframe tbody tr th {\n",
       "        vertical-align: top;\n",
       "    }\n",
       "\n",
       "    .dataframe thead th {\n",
       "        text-align: right;\n",
       "    }\n",
       "</style>\n",
       "<table border=\"1\" class=\"dataframe\">\n",
       "  <thead>\n",
       "    <tr style=\"text-align: right;\">\n",
       "      <th></th>\n",
       "      <th>#</th>\n",
       "      <th>Name</th>\n",
       "      <th>Type 1</th>\n",
       "      <th>Type 2</th>\n",
       "      <th>HP</th>\n",
       "      <th>Attack</th>\n",
       "      <th>Defense</th>\n",
       "      <th>Sp. Atk</th>\n",
       "      <th>Sp. Def</th>\n",
       "      <th>Speed</th>\n",
       "      <th>Generation</th>\n",
       "      <th>Legendary</th>\n",
       "      <th>Total</th>\n",
       "      <th>Total1</th>\n",
       "    </tr>\n",
       "  </thead>\n",
       "  <tbody>\n",
       "    <tr>\n",
       "      <th>0</th>\n",
       "      <td>1</td>\n",
       "      <td>Bulbasaur</td>\n",
       "      <td>Grass</td>\n",
       "      <td>Poison</td>\n",
       "      <td>45</td>\n",
       "      <td>49</td>\n",
       "      <td>49</td>\n",
       "      <td>65</td>\n",
       "      <td>65</td>\n",
       "      <td>45</td>\n",
       "      <td>1</td>\n",
       "      <td>False</td>\n",
       "      <td>188</td>\n",
       "      <td>188</td>\n",
       "    </tr>\n",
       "    <tr>\n",
       "      <th>1</th>\n",
       "      <td>2</td>\n",
       "      <td>Ivysaur</td>\n",
       "      <td>Grass</td>\n",
       "      <td>Poison</td>\n",
       "      <td>60</td>\n",
       "      <td>62</td>\n",
       "      <td>63</td>\n",
       "      <td>80</td>\n",
       "      <td>80</td>\n",
       "      <td>60</td>\n",
       "      <td>1</td>\n",
       "      <td>False</td>\n",
       "      <td>245</td>\n",
       "      <td>245</td>\n",
       "    </tr>\n",
       "    <tr>\n",
       "      <th>2</th>\n",
       "      <td>3</td>\n",
       "      <td>Venusaur</td>\n",
       "      <td>Grass</td>\n",
       "      <td>Poison</td>\n",
       "      <td>80</td>\n",
       "      <td>82</td>\n",
       "      <td>83</td>\n",
       "      <td>100</td>\n",
       "      <td>100</td>\n",
       "      <td>80</td>\n",
       "      <td>1</td>\n",
       "      <td>False</td>\n",
       "      <td>325</td>\n",
       "      <td>325</td>\n",
       "    </tr>\n",
       "    <tr>\n",
       "      <th>3</th>\n",
       "      <td>3</td>\n",
       "      <td>VenusaurMega Venusaur</td>\n",
       "      <td>Grass</td>\n",
       "      <td>Poison</td>\n",
       "      <td>80</td>\n",
       "      <td>100</td>\n",
       "      <td>123</td>\n",
       "      <td>122</td>\n",
       "      <td>120</td>\n",
       "      <td>80</td>\n",
       "      <td>1</td>\n",
       "      <td>False</td>\n",
       "      <td>383</td>\n",
       "      <td>383</td>\n",
       "    </tr>\n",
       "    <tr>\n",
       "      <th>4</th>\n",
       "      <td>4</td>\n",
       "      <td>Charmander</td>\n",
       "      <td>Fire</td>\n",
       "      <td>NaN</td>\n",
       "      <td>39</td>\n",
       "      <td>52</td>\n",
       "      <td>43</td>\n",
       "      <td>60</td>\n",
       "      <td>50</td>\n",
       "      <td>65</td>\n",
       "      <td>1</td>\n",
       "      <td>False</td>\n",
       "      <td>199</td>\n",
       "      <td>199</td>\n",
       "    </tr>\n",
       "    <tr>\n",
       "      <th>...</th>\n",
       "      <td>...</td>\n",
       "      <td>...</td>\n",
       "      <td>...</td>\n",
       "      <td>...</td>\n",
       "      <td>...</td>\n",
       "      <td>...</td>\n",
       "      <td>...</td>\n",
       "      <td>...</td>\n",
       "      <td>...</td>\n",
       "      <td>...</td>\n",
       "      <td>...</td>\n",
       "      <td>...</td>\n",
       "      <td>...</td>\n",
       "      <td>...</td>\n",
       "    </tr>\n",
       "    <tr>\n",
       "      <th>795</th>\n",
       "      <td>719</td>\n",
       "      <td>Diancie</td>\n",
       "      <td>Rock</td>\n",
       "      <td>Fairy</td>\n",
       "      <td>50</td>\n",
       "      <td>100</td>\n",
       "      <td>150</td>\n",
       "      <td>100</td>\n",
       "      <td>150</td>\n",
       "      <td>50</td>\n",
       "      <td>6</td>\n",
       "      <td>True</td>\n",
       "      <td>350</td>\n",
       "      <td>350</td>\n",
       "    </tr>\n",
       "    <tr>\n",
       "      <th>796</th>\n",
       "      <td>719</td>\n",
       "      <td>DiancieMega Diancie</td>\n",
       "      <td>Rock</td>\n",
       "      <td>Fairy</td>\n",
       "      <td>50</td>\n",
       "      <td>160</td>\n",
       "      <td>110</td>\n",
       "      <td>160</td>\n",
       "      <td>110</td>\n",
       "      <td>110</td>\n",
       "      <td>6</td>\n",
       "      <td>True</td>\n",
       "      <td>430</td>\n",
       "      <td>430</td>\n",
       "    </tr>\n",
       "    <tr>\n",
       "      <th>797</th>\n",
       "      <td>720</td>\n",
       "      <td>HoopaHoopa Confined</td>\n",
       "      <td>Psychic</td>\n",
       "      <td>Ghost</td>\n",
       "      <td>80</td>\n",
       "      <td>110</td>\n",
       "      <td>60</td>\n",
       "      <td>150</td>\n",
       "      <td>130</td>\n",
       "      <td>70</td>\n",
       "      <td>6</td>\n",
       "      <td>True</td>\n",
       "      <td>320</td>\n",
       "      <td>320</td>\n",
       "    </tr>\n",
       "    <tr>\n",
       "      <th>798</th>\n",
       "      <td>720</td>\n",
       "      <td>HoopaHoopa Unbound</td>\n",
       "      <td>Psychic</td>\n",
       "      <td>Dark</td>\n",
       "      <td>80</td>\n",
       "      <td>160</td>\n",
       "      <td>60</td>\n",
       "      <td>170</td>\n",
       "      <td>130</td>\n",
       "      <td>80</td>\n",
       "      <td>6</td>\n",
       "      <td>True</td>\n",
       "      <td>380</td>\n",
       "      <td>380</td>\n",
       "    </tr>\n",
       "    <tr>\n",
       "      <th>799</th>\n",
       "      <td>721</td>\n",
       "      <td>Volcanion</td>\n",
       "      <td>Fire</td>\n",
       "      <td>Water</td>\n",
       "      <td>80</td>\n",
       "      <td>110</td>\n",
       "      <td>120</td>\n",
       "      <td>130</td>\n",
       "      <td>90</td>\n",
       "      <td>70</td>\n",
       "      <td>6</td>\n",
       "      <td>True</td>\n",
       "      <td>380</td>\n",
       "      <td>380</td>\n",
       "    </tr>\n",
       "  </tbody>\n",
       "</table>\n",
       "<p>800 rows × 14 columns</p>\n",
       "</div>"
      ],
      "text/plain": [
       "       #                   Name   Type 1  Type 2  HP  Attack  Defense  \\\n",
       "0      1              Bulbasaur    Grass  Poison  45      49       49   \n",
       "1      2                Ivysaur    Grass  Poison  60      62       63   \n",
       "2      3               Venusaur    Grass  Poison  80      82       83   \n",
       "3      3  VenusaurMega Venusaur    Grass  Poison  80     100      123   \n",
       "4      4             Charmander     Fire     NaN  39      52       43   \n",
       "..   ...                    ...      ...     ...  ..     ...      ...   \n",
       "795  719                Diancie     Rock   Fairy  50     100      150   \n",
       "796  719    DiancieMega Diancie     Rock   Fairy  50     160      110   \n",
       "797  720    HoopaHoopa Confined  Psychic   Ghost  80     110       60   \n",
       "798  720     HoopaHoopa Unbound  Psychic    Dark  80     160       60   \n",
       "799  721              Volcanion     Fire   Water  80     110      120   \n",
       "\n",
       "     Sp. Atk  Sp. Def  Speed  Generation  Legendary  Total  Total1  \n",
       "0         65       65     45           1      False    188     188  \n",
       "1         80       80     60           1      False    245     245  \n",
       "2        100      100     80           1      False    325     325  \n",
       "3        122      120     80           1      False    383     383  \n",
       "4         60       50     65           1      False    199     199  \n",
       "..       ...      ...    ...         ...        ...    ...     ...  \n",
       "795      100      150     50           6       True    350     350  \n",
       "796      160      110    110           6       True    430     430  \n",
       "797      150      130     70           6       True    320     320  \n",
       "798      170      130     80           6       True    380     380  \n",
       "799      130       90     70           6       True    380     380  \n",
       "\n",
       "[800 rows x 14 columns]"
      ]
     },
     "execution_count": 164,
     "metadata": {},
     "output_type": "execute_result"
    }
   ],
   "source": [
    "df['Total'] = df['HP'] + df['Attack'] + df['Defense'] + df['Speed'] # can simply create a new column in the df\n",
    "df.assign(Total1 = df['HP'] + df['Attack'] + df['Defense'] + df['Speed']) #used assign function to assign a name to an expression\n",
    "df.head(5)"
   ]
  },
  {
   "cell_type": "markdown",
   "id": "342bdd59",
   "metadata": {},
   "source": [
    "# Drop Column/s"
   ]
  },
  {
   "cell_type": "code",
   "execution_count": null,
   "id": "5dbfb3fd",
   "metadata": {},
   "outputs": [],
   "source": [
    "df.drop(columns = ['Total'])"
   ]
  },
  {
   "cell_type": "markdown",
   "id": "7d8db824",
   "metadata": {},
   "source": [
    "# Create New Column based on a Formula (Sum)"
   ]
  },
  {
   "cell_type": "code",
   "execution_count": null,
   "id": "cc53f879",
   "metadata": {},
   "outputs": [],
   "source": [
    "df['Total'] = df.iloc[:,4:10].sum(axis=1)\n",
    "df"
   ]
  },
  {
   "cell_type": "markdown",
   "id": "34a782c0",
   "metadata": {},
   "source": [
    "# Way to show sequence of columns in the desired sequence"
   ]
  },
  {
   "cell_type": "code",
   "execution_count": null,
   "id": "701d850b",
   "metadata": {},
   "outputs": [],
   "source": [
    "cols = list(df.columns)\n",
    "df = df[cols[0:4] + [cols[-1]] + cols[4:12]] # Way to show sequence of columns in the desired sequence\n",
    "df"
   ]
  },
  {
   "cell_type": "markdown",
   "id": "3b630e19",
   "metadata": {},
   "source": [
    "# Save output to a file"
   ]
  },
  {
   "cell_type": "code",
   "execution_count": null,
   "id": "05a6eedb",
   "metadata": {},
   "outputs": [],
   "source": [
    "df.to_csv('modified.csv', index = False)"
   ]
  },
  {
   "cell_type": "code",
   "execution_count": null,
   "id": "9b077d64",
   "metadata": {},
   "outputs": [],
   "source": [
    "df.to_excel('modifiedexcel.xlsx', index = False)"
   ]
  },
  {
   "cell_type": "code",
   "execution_count": null,
   "id": "9f66441d",
   "metadata": {},
   "outputs": [],
   "source": [
    "df.to_csv('modified.csv', index = False)"
   ]
  },
  {
   "cell_type": "code",
   "execution_count": null,
   "id": "9f755243",
   "metadata": {},
   "outputs": [],
   "source": [
    "df2.describe()"
   ]
  },
  {
   "cell_type": "markdown",
   "id": "34ba153c",
   "metadata": {},
   "source": [
    "# Conditional Filtering and use of Str.Contains function to filter keywords."
   ]
  },
  {
   "cell_type": "code",
   "execution_count": null,
   "id": "46de7f9a",
   "metadata": {},
   "outputs": [],
   "source": [
    "new_df = df.loc[(df['Type 1'] == 'Grass') & (df['Type 2'] == 'Poison') & (df['HP'] > 70)]\n",
    "new_df.reset_index(drop=True, inplace=True) #Inplace is used to make changes to DF only the fly rather than storing it in a new container.\n"
   ]
  },
  {
   "cell_type": "code",
   "execution_count": null,
   "id": "29d1e5a9",
   "metadata": {},
   "outputs": [],
   "source": [
    "import re\n",
    "df.loc[df['Name'].str.contains('^d[a-z]*', flags=re.I,  regex = True)]\n",
    "#flags=re.I is meant to ignore Case Sensitive. One can use python upper() inbuilt function as well"
   ]
  },
  {
   "cell_type": "markdown",
   "id": "cfbeaed1",
   "metadata": {},
   "source": [
    "# Conditional Changes"
   ]
  },
  {
   "cell_type": "code",
   "execution_count": null,
   "id": "abfa85cc",
   "metadata": {},
   "outputs": [],
   "source": [
    "df.loc[df['Type 1'] == 'Buggy' , 'Type 1'] = 'Bug'\n",
    "df.loc[df['Name'].str.contains('^d[a-z]*'.upper(), flags=re.I,  regex = True)]"
   ]
  },
  {
   "cell_type": "code",
   "execution_count": null,
   "id": "38ace3bf",
   "metadata": {},
   "outputs": [],
   "source": [
    "df.loc[df['Total'] > 500, ['Generation','Legendary']] = ['1',False]"
   ]
  },
  {
   "cell_type": "code",
   "execution_count": null,
   "id": "96457011",
   "metadata": {},
   "outputs": [],
   "source": [
    "df.loc[df['Total'] > 500]\n"
   ]
  },
  {
   "cell_type": "markdown",
   "id": "104446cf",
   "metadata": {},
   "source": [
    "# Group By Function to Group Rows"
   ]
  },
  {
   "cell_type": "code",
   "execution_count": null,
   "id": "f17bb3a1",
   "metadata": {},
   "outputs": [],
   "source": [
    "df.groupby(['Type 1']).mean().sort_values('Attack', ascending = 0)"
   ]
  },
  {
   "cell_type": "code",
   "execution_count": null,
   "id": "e2c6c3ff",
   "metadata": {},
   "outputs": [],
   "source": [
    "print(df.groupby(['Type 1']).sum().sort_values('Attack', ascending = 0))\n",
    "print(df.groupby(['Type 1']).count().sort_values('Attack', ascending = 0))"
   ]
  },
  {
   "cell_type": "code",
   "execution_count": null,
   "id": "0a7ed877",
   "metadata": {},
   "outputs": [],
   "source": [
    "df['Count'] = 1\n",
    "df.groupby(['Type 1']).count()['Count']\n"
   ]
  },
  {
   "cell_type": "markdown",
   "id": "b020ad20",
   "metadata": {},
   "source": [
    "# Handling Data from Large Files in Smaller Chunks"
   ]
  },
  {
   "cell_type": "code",
   "execution_count": null,
   "id": "507be67d",
   "metadata": {},
   "outputs": [],
   "source": [
    "# for df in pd.read_csv('modified.csv', chunksize = 5):\n",
    "#     print(\"DATA FRAME: \")\n",
    "#     print(df)\n",
    "new_df = pd.DataFrame(columns=df.columns)\n",
    "for df in pd.read_csv('pokemon_data.csv', chunksize=50):\n",
    "    results = df.groupby(['Type 1']).count()\n",
    "    new_df = pd.concat([new_df, results])\n",
    "new_df.drop(columns = ['Type 1'])\n"
   ]
  },
  {
   "cell_type": "code",
   "execution_count": null,
   "id": "a29a28f8",
   "metadata": {},
   "outputs": [],
   "source": [
    "df2.iloc[0:2]"
   ]
  }
 ],
 "metadata": {
  "kernelspec": {
   "display_name": "Python 3",
   "language": "python",
   "name": "python3"
  },
  "language_info": {
   "codemirror_mode": {
    "name": "ipython",
    "version": 3
   },
   "file_extension": ".py",
   "mimetype": "text/x-python",
   "name": "python",
   "nbconvert_exporter": "python",
   "pygments_lexer": "ipython3",
   "version": "3.11.1"
  },
  "vscode": {
   "interpreter": {
    "hash": "13a128abfd5b09b1d64cff8c2fa9779677c79a0785f060ee843d8287674cc947"
   }
  }
 },
 "nbformat": 4,
 "nbformat_minor": 5
}
